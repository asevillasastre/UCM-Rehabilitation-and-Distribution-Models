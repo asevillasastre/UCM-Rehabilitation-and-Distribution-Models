{
 "cells": [
  {
   "cell_type": "code",
   "execution_count": 1,
   "metadata": {},
   "outputs": [
    {
     "data": {
      "text/plain": [
       "'\\nTable E(i,j) Existe la ruta de i a j\\n    0   1   2   3   4   5   6\\n0   0   1   1   1   0   1   0\\n1   1   0   0   0   0   0   0\\n2   1   0   0   0   0   0   0\\n3   1   0   0   0   1   0   0\\n4   0   0   0   1   0   0   0\\n5   1   0   0   0   0   0   1\\n6   0   0   0   0   0   1   0   \\n;\\n\\nTable U(i,j) Al inicio es utilizable la ruta de i a j\\n    0   1   2   3   4   5   6\\n0   0   1   0   1   0   0   0\\n1   1   0   0   0   0   0   0\\n2   0   0   0   0   0   0   0\\n3   1   0   0   0   0   0   0\\n4   0   0   0   0   0   0   0\\n5   0   0   0   0   0   0   1\\n6   0   0   0   0   0   1   0 \\n;\\n\\nTable P(i,j) Probabilidad de que la ruta de i a j sea usable\\n    0   1   2   3   4   5   6\\n0   0   0.2 1   1   0   1   0\\n1   0.2 0   0   0   0   0   0\\n2   1   0   0   0   0   0   0\\n3   1   0   0   0   0.3 0   0\\n4   0   0   0   0.3 0   0   0\\n5   1   0   0   0   0   0   1\\n6   0   0   0   0   0   1   0 \\n;\\n\\nTable Dist(i,j) Distancia de las rutas de i a j\\n    0   1   2   3   4   5   6\\n0   0   1   2   4   0   1   0\\n1   1   0   0   0   0   0   0\\n2   2   0   0   0   0   0   0\\n3   4   0   0   0   7   0   0\\n4   0   0   0   7   0   0   0\\n5   1   0   0   0   0   0   3\\n6   0   0   0   0   0   3   0  \\n'"
      ]
     },
     "execution_count": 1,
     "metadata": {},
     "output_type": "execute_result"
    }
   ],
   "source": [
    "\"\"\"\n",
    "Table E(i,j) Existe la ruta de i a j\n",
    "    0   1   2   3   4   5   6\n",
    "0   0   1   1   1   0   1   0\n",
    "1   1   0   0   0   0   0   0\n",
    "2   1   0   0   0   0   0   0\n",
    "3   1   0   0   0   1   0   0\n",
    "4   0   0   0   1   0   0   0\n",
    "5   1   0   0   0   0   0   1\n",
    "6   0   0   0   0   0   1   0   \n",
    ";\n",
    "\n",
    "Table U(i,j) Al inicio es utilizable la ruta de i a j\n",
    "    0   1   2   3   4   5   6\n",
    "0   0   1   0   1   0   0   0\n",
    "1   1   0   0   0   0   0   0\n",
    "2   0   0   0   0   0   0   0\n",
    "3   1   0   0   0   0   0   0\n",
    "4   0   0   0   0   0   0   0\n",
    "5   0   0   0   0   0   0   1\n",
    "6   0   0   0   0   0   1   0 \n",
    ";\n",
    "\n",
    "Table P(i,j) Probabilidad de que la ruta de i a j sea usable\n",
    "    0   1   2   3   4   5   6\n",
    "0   0   0.2 1   1   0   1   0\n",
    "1   0.2 0   0   0   0   0   0\n",
    "2   1   0   0   0   0   0   0\n",
    "3   1   0   0   0   0.3 0   0\n",
    "4   0   0   0   0.3 0   0   0\n",
    "5   1   0   0   0   0   0   1\n",
    "6   0   0   0   0   0   1   0 \n",
    ";\n",
    "\n",
    "Table Dist(i,j) Distancia de las rutas de i a j\n",
    "    0   1   2   3   4   5   6\n",
    "0   0   1   2   4   0   1   0\n",
    "1   1   0   0   0   0   0   0\n",
    "2   2   0   0   0   0   0   0\n",
    "3   4   0   0   0   7   0   0\n",
    "4   0   0   0   7   0   0   0\n",
    "5   1   0   0   0   0   0   3\n",
    "6   0   0   0   0   0   3   0  \n",
    "\"\"\""
   ]
  },
  {
   "cell_type": "code",
   "execution_count": 2,
   "metadata": {},
   "outputs": [],
   "source": []
  },
  {
   "cell_type": "code",
   "execution_count": 3,
   "metadata": {},
   "outputs": [],
   "source": []
  },
  {
   "cell_type": "code",
   "execution_count": 11,
   "metadata": {},
   "outputs": [],
   "source": [
    "def gen(num_nodos, num_arcos, num_iniciales, num_finales, num_rotos, num_ceros):\n",
    "    list_nodos = list(range(num_nodos))\n",
    "    conectados = list_nodos[:num_iniciales]\n",
    "    iniciales = list_nodos[:num_iniciales]\n",
    "    finales = list_nodos[-num_finales:]\n",
    "    no_conectados = list_nodos[num_iniciales:]\n",
    "    #print(\"\\n\", list_nodos, \"\\n\", conectados, \"\\n\", finales,\"\\n\",no_conectados)\n",
    "    conexiones = []\n",
    "    while not (set(list_nodos) == set(conectados)):\n",
    "        a = conectados[random.randint(0, len(conectados)-1)]\n",
    "        b = no_conectados[random.randint(0, len(no_conectados)-1)]\n",
    "        if a!=b:\n",
    "            conectados.append(b)\n",
    "            no_conectados.remove(b)\n",
    "            conectados = list(set(conectados))\n",
    "            new_conex = tuple(sorted((a,b)))\n",
    "            conexiones.append(new_conex)\n",
    "\n",
    "    for i in range(num_arcos - len(conexiones)):\n",
    "        a = random.randint(0, len(conectados)-1)\n",
    "        b = random.randint(0, len(conectados)-1)\n",
    "        while b==a or tuple(sorted((a,b))) in conexiones:\n",
    "            b = random.randint(0, len(conectados)-1)\n",
    "        new_conex = tuple(sorted((a,b)))\n",
    "        conexiones.append(new_conex)\n",
    "        #print(conectados)\n",
    "        #print(conexiones)\n",
    "    print(conexiones)\n",
    "    for cero in range(num_ceros):\n",
    "        b = random.randint(1, len(conectados)-1)\n",
    "        new_cero = (0,b)\n",
    "        conexiones.append(new_cero)\n",
    "    \n",
    "    conexiones = list(set(conexiones))\n",
    "    print(conexiones)\n",
    "\n",
    "    #print(len(conexiones))\n",
    "\n",
    "    E = []\n",
    "    \n",
    "    for i in range(num_nodos):\n",
    "        E.append([])\n",
    "        for j in range(num_nodos):\n",
    "            E[i].append(0)\n",
    "\n",
    "    for tupla in conexiones:\n",
    "        E[tupla[0]][tupla[1]] = 1\n",
    "        E[tupla[1]][tupla[0]] = 1\n",
    "    \n",
    "\n",
    "    U = E\n",
    "\n",
    "    \"\"\"\n",
    "    for i in range(num_nodos):\n",
    "        U.append([])\n",
    "        for j in range(num_nodos):\n",
    "            U[i].append(0)\n",
    "    \"\"\"\n",
    "\n",
    "\n",
    "    for roto in range(num_rotos + 1):\n",
    "        print(roto)\n",
    "        k = random.randint(0, num_arcos - 1)\n",
    "        print(\"k: \", k)\n",
    "        print(U[conexiones[k][0]][conexiones[k][1]])\n",
    "        print(conexiones[k][0])\n",
    "        U[conexiones[k][0]][conexiones[k][1]] = 0\n",
    "        U[conexiones[k][1]][conexiones[k][0]] = 0\n",
    "\n",
    "\n",
    "    P = []\n",
    "\n",
    "    for i in range(num_nodos):\n",
    "        P.append([])\n",
    "        for j in range(num_nodos):\n",
    "            P[i].append(1)\n",
    "\n",
    "    for tupla in conexiones:\n",
    "        w = round(random.random(),2)\n",
    "        P[tupla[0]][tupla[1]] = w\n",
    "        P[tupla[1]][tupla[0]] = w\n",
    "\n",
    "\n",
    "    Dist = []\n",
    "\n",
    "    for i in range(num_nodos):\n",
    "        Dist.append([])\n",
    "        for j in range(num_nodos):\n",
    "            Dist[i].append(0)\n",
    "    \n",
    "    for tupla in conexiones:\n",
    "        w = random.randint(1, 2)\n",
    "        Dist[tupla[0]][tupla[1]] = w\n",
    "        Dist[tupla[1]][tupla[0]] = w\n",
    "    \n",
    "    return {\"Params\": [num_nodos, num_arcos, num_iniciales, num_finales, num_rotos],\"E\":E, \"U\":U, \"P\":P, \"Dist\":Dist}\n",
    "    \n",
    "\n"
   ]
  },
  {
   "cell_type": "code",
   "execution_count": 5,
   "metadata": {},
   "outputs": [
    {
     "name": "stdout",
     "output_type": "stream",
     "text": [
      "[(0, 4), (1, 3), (0, 2), (1, 4), (2, 3)]\n",
      "[(0, 1), (0, 4), (0, 3), (1, 4), (2, 3), (0, 2), (1, 3)]\n",
      "0\n",
      "k:  1\n",
      "1\n",
      "0\n",
      "1\n",
      "k:  0\n",
      "1\n",
      "0\n",
      "2\n",
      "k:  3\n",
      "1\n",
      "1\n"
     ]
    },
    {
     "data": {
      "text/plain": [
       "{'Params': [5, 5, 2, 3, 2],\n",
       " 'E': [[0, 0, 1, 1, 0],\n",
       "  [0, 0, 0, 1, 0],\n",
       "  [1, 0, 0, 1, 0],\n",
       "  [1, 1, 1, 0, 0],\n",
       "  [0, 0, 0, 0, 0]],\n",
       " 'U': [[0, 0, 1, 1, 0],\n",
       "  [0, 0, 0, 1, 0],\n",
       "  [1, 0, 0, 1, 0],\n",
       "  [1, 1, 1, 0, 0],\n",
       "  [0, 0, 0, 0, 0]],\n",
       " 'P': [[1, 0.77, 0.4, 0.47, 0.37],\n",
       "  [0.77, 1, 1, 0.21, 0.33],\n",
       "  [0.4, 1, 1, 0.64, 1],\n",
       "  [0.47, 0.21, 0.64, 1, 1],\n",
       "  [0.37, 0.33, 1, 1, 1]],\n",
       " 'Dist': [[0, 2, 2, 2, 2],\n",
       "  [2, 0, 0, 2, 1],\n",
       "  [2, 0, 0, 1, 0],\n",
       "  [2, 2, 1, 0, 0],\n",
       "  [2, 1, 0, 0, 0]]}"
      ]
     },
     "execution_count": 5,
     "metadata": {},
     "output_type": "execute_result"
    }
   ],
   "source": [
    "gen(5,5,2,3,2,6)"
   ]
  },
  {
   "cell_type": "code",
   "execution_count": 6,
   "metadata": {},
   "outputs": [],
   "source": [
    "def repr_matrix(matrix):\n",
    "    result = \" \"\n",
    "    for i in range(0, len(matrix)):\n",
    "        result += \"     \" + str(i)\n",
    "    for j in range(0, len(matrix)):\n",
    "        result += \"\\n\" + str(j) + \"     \"\n",
    "        for k in range(0, len(matrix)):\n",
    "            result += str(matrix[j][k])\n",
    "            for esp in range(6 - len(str(matrix[j][k]))):\n",
    "                result += \" \"\n",
    "    result += \"\\n;\\n\"\n",
    "    #print(result)\n",
    "    return(result)"
   ]
  },
  {
   "cell_type": "code",
   "execution_count": 7,
   "metadata": {},
   "outputs": [
    {
     "data": {
      "text/plain": [
       "'      0     1     2     3\\n0     1     2.237 3     6     \\n1     5     4     5.23  6.43  \\n2     5     7     8     9     \\n3     5     7     8     9     \\n;\\n'"
      ]
     },
     "execution_count": 7,
     "metadata": {},
     "output_type": "execute_result"
    }
   ],
   "source": [
    "repr_matrix([[1, 2.237, 3,6],[5,4, 5.23, 6.43],[5,7, 8, 9],[5,7, 8, 9]])"
   ]
  },
  {
   "cell_type": "code",
   "execution_count": 8,
   "metadata": {},
   "outputs": [],
   "source": [
    "def format_gams(dict_matrix):\n",
    "    result = \"* Matrices de ejemplo generadas con la versión buena de mi programa (la del 08-02-23)\\n\"\n",
    "    result += \"* [num_nodos, num_arcos, num_iniciales, num_finales, num_rotos] = \" + str(dict_matrix[\"Params\"]) + \"\\n\"\n",
    "    result += \"Table E(i,j) Existe la ruta de i a j\\n\"\n",
    "    result += repr_matrix(dict_matrix[\"E\"])\n",
    "    result += \"Table U(i,j) Al inicio es utilizable la ruta de i a j\\n\"\n",
    "    result += repr_matrix(dict_matrix[\"U\"])\n",
    "    result += \"Table P(i,j) Probabilidad de que la ruta de i a j sea usable\\n\"\n",
    "    result += repr_matrix(dict_matrix[\"P\"])\n",
    "    result += \"Table Dist(i,j) Distancia de las rutas de i a j\\n\"\n",
    "    result += repr_matrix(dict_matrix[\"Dist\"])\n",
    "\n",
    "    print(result)\n",
    "    return result"
   ]
  },
  {
   "cell_type": "code",
   "execution_count": 10,
   "metadata": {},
   "outputs": [
    {
     "name": "stdout",
     "output_type": "stream",
     "text": [
      "[(1, 8), (0, 5), (0, 6), (2, 6), (4, 5), (3, 5), (5, 7), (5, 9), (0, 4), (2, 9), (0, 2), (1, 4), (2, 5), (7, 9), (2, 7)]\n",
      "[(0, 1), (0, 4), (2, 7), (1, 8), (0, 9), (0, 3), (5, 7), (0, 6), (1, 4), (2, 9), (4, 5), (0, 2), (2, 6), (7, 9), (0, 5), (5, 9), (2, 5), (3, 5)]\n",
      "0\n",
      "k:  1\n",
      "1\n",
      "0\n",
      "1\n",
      "k:  1\n",
      "0\n",
      "0\n",
      "2\n",
      "k:  0\n",
      "1\n",
      "0\n",
      "* Matrices de ejemplo generadas con mi programa\n",
      "* [num_nodos, num_arcos, num_iniciales, num_finales, num_rotos] = [10, 15, 2, 3, 2]\n",
      "Table E(i,j) Existe la ruta de i a j\n",
      "      0     1     2     3     4     5     6     7     8     9\n",
      "0     0     0     1     1     0     1     1     0     0     1     \n",
      "1     0     0     0     0     1     0     0     0     1     0     \n",
      "2     1     0     0     0     0     1     1     1     0     1     \n",
      "3     1     0     0     0     0     1     0     0     0     0     \n",
      "4     0     1     0     0     0     1     0     0     0     0     \n",
      "5     1     0     1     1     1     0     0     1     0     1     \n",
      "6     1     0     1     0     0     0     0     0     0     0     \n",
      "7     0     0     1     0     0     1     0     0     0     1     \n",
      "8     0     1     0     0     0     0     0     0     0     0     \n",
      "9     1     0     1     0     0     1     0     1     0     0     \n",
      ";\n",
      "Table U(i,j) Al inicio es utilizable la ruta de i a j\n",
      "      0     1     2     3     4     5     6     7     8     9\n",
      "0     0     0     1     1     0     1     1     0     0     1     \n",
      "1     0     0     0     0     1     0     0     0     1     0     \n",
      "2     1     0     0     0     0     1     1     1     0     1     \n",
      "3     1     0     0     0     0     1     0     0     0     0     \n",
      "4     0     1     0     0     0     1     0     0     0     0     \n",
      "5     1     0     1     1     1     0     0     1     0     1     \n",
      "6     1     0     1     0     0     0     0     0     0     0     \n",
      "7     0     0     1     0     0     1     0     0     0     1     \n",
      "8     0     1     0     0     0     0     0     0     0     0     \n",
      "9     1     0     1     0     0     1     0     1     0     0     \n",
      ";\n",
      "Table P(i,j) Probabilidad de que la ruta de i a j sea usable\n",
      "      0     1     2     3     4     5     6     7     8     9\n",
      "0     1     0.58  0.92  0.68  0.53  0.55  0.61  1     1     0.82  \n",
      "1     0.58  1     1     1     0.46  1     1     1     0.44  1     \n",
      "2     0.92  1     1     1     1     0.97  0.2   0.7   1     0.64  \n",
      "3     0.68  1     1     1     1     0.08  1     1     1     1     \n",
      "4     0.53  0.46  1     1     1     0.69  1     1     1     1     \n",
      "5     0.55  1     0.97  0.08  0.69  1     1     0.61  1     0.98  \n",
      "6     0.61  1     0.2   1     1     1     1     1     1     1     \n",
      "7     1     1     0.7   1     1     0.61  1     1     1     0.93  \n",
      "8     1     0.44  1     1     1     1     1     1     1     1     \n",
      "9     0.82  1     0.64  1     1     0.98  1     0.93  1     1     \n",
      ";\n",
      "Table Dist(i,j) Distancia de las rutas de i a j\n",
      "      0     1     2     3     4     5     6     7     8     9\n",
      "0     0     1     2     1     2     1     2     0     0     1     \n",
      "1     1     0     0     0     1     0     0     0     2     0     \n",
      "2     2     0     0     0     0     2     1     2     0     1     \n",
      "3     1     0     0     0     0     1     0     0     0     0     \n",
      "4     2     1     0     0     0     2     0     0     0     0     \n",
      "5     1     0     2     1     2     0     0     2     0     2     \n",
      "6     2     0     1     0     0     0     0     0     0     0     \n",
      "7     0     0     2     0     0     2     0     0     0     2     \n",
      "8     0     2     0     0     0     0     0     0     0     0     \n",
      "9     1     0     1     0     0     2     0     2     0     0     \n",
      ";\n",
      "\n"
     ]
    },
    {
     "data": {
      "text/plain": [
       "'* Matrices de ejemplo generadas con mi programa\\n* [num_nodos, num_arcos, num_iniciales, num_finales, num_rotos] = [10, 15, 2, 3, 2]\\nTable E(i,j) Existe la ruta de i a j\\n      0     1     2     3     4     5     6     7     8     9\\n0     0     0     1     1     0     1     1     0     0     1     \\n1     0     0     0     0     1     0     0     0     1     0     \\n2     1     0     0     0     0     1     1     1     0     1     \\n3     1     0     0     0     0     1     0     0     0     0     \\n4     0     1     0     0     0     1     0     0     0     0     \\n5     1     0     1     1     1     0     0     1     0     1     \\n6     1     0     1     0     0     0     0     0     0     0     \\n7     0     0     1     0     0     1     0     0     0     1     \\n8     0     1     0     0     0     0     0     0     0     0     \\n9     1     0     1     0     0     1     0     1     0     0     \\n;\\nTable U(i,j) Al inicio es utilizable la ruta de i a j\\n      0     1     2     3     4     5     6     7     8     9\\n0     0     0     1     1     0     1     1     0     0     1     \\n1     0     0     0     0     1     0     0     0     1     0     \\n2     1     0     0     0     0     1     1     1     0     1     \\n3     1     0     0     0     0     1     0     0     0     0     \\n4     0     1     0     0     0     1     0     0     0     0     \\n5     1     0     1     1     1     0     0     1     0     1     \\n6     1     0     1     0     0     0     0     0     0     0     \\n7     0     0     1     0     0     1     0     0     0     1     \\n8     0     1     0     0     0     0     0     0     0     0     \\n9     1     0     1     0     0     1     0     1     0     0     \\n;\\nTable P(i,j) Probabilidad de que la ruta de i a j sea usable\\n      0     1     2     3     4     5     6     7     8     9\\n0     1     0.58  0.92  0.68  0.53  0.55  0.61  1     1     0.82  \\n1     0.58  1     1     1     0.46  1     1     1     0.44  1     \\n2     0.92  1     1     1     1     0.97  0.2   0.7   1     0.64  \\n3     0.68  1     1     1     1     0.08  1     1     1     1     \\n4     0.53  0.46  1     1     1     0.69  1     1     1     1     \\n5     0.55  1     0.97  0.08  0.69  1     1     0.61  1     0.98  \\n6     0.61  1     0.2   1     1     1     1     1     1     1     \\n7     1     1     0.7   1     1     0.61  1     1     1     0.93  \\n8     1     0.44  1     1     1     1     1     1     1     1     \\n9     0.82  1     0.64  1     1     0.98  1     0.93  1     1     \\n;\\nTable Dist(i,j) Distancia de las rutas de i a j\\n      0     1     2     3     4     5     6     7     8     9\\n0     0     1     2     1     2     1     2     0     0     1     \\n1     1     0     0     0     1     0     0     0     2     0     \\n2     2     0     0     0     0     2     1     2     0     1     \\n3     1     0     0     0     0     1     0     0     0     0     \\n4     2     1     0     0     0     2     0     0     0     0     \\n5     1     0     2     1     2     0     0     2     0     2     \\n6     2     0     1     0     0     0     0     0     0     0     \\n7     0     0     2     0     0     2     0     0     0     2     \\n8     0     2     0     0     0     0     0     0     0     0     \\n9     1     0     1     0     0     2     0     2     0     0     \\n;\\n'"
      ]
     },
     "execution_count": 10,
     "metadata": {},
     "output_type": "execute_result"
    }
   ],
   "source": [
    "format_gams(gen(10,15,2,3,2,5))"
   ]
  }
 ],
 "metadata": {
  "kernelspec": {
   "display_name": "Python 3",
   "language": "python",
   "name": "python3"
  },
  "language_info": {
   "codemirror_mode": {
    "name": "ipython",
    "version": 3
   },
   "file_extension": ".py",
   "mimetype": "text/x-python",
   "name": "python",
   "nbconvert_exporter": "python",
   "pygments_lexer": "ipython3",
   "version": "3.10.10"
  },
  "orig_nbformat": 4,
  "vscode": {
   "interpreter": {
    "hash": "9bd066280aa85591686cbc4fbc01a16e01f9b1e6360eb34394b58bcb78c8324e"
   }
  }
 },
 "nbformat": 4,
 "nbformat_minor": 2
}
